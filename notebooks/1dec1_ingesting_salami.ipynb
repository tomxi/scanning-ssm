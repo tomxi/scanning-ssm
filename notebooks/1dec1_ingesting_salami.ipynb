{
 "cells": [
  {
   "cell_type": "code",
   "execution_count": 1,
   "id": "alone-employee",
   "metadata": {},
   "outputs": [],
   "source": [
    "import mirdata"
   ]
  },
  {
   "cell_type": "code",
   "execution_count": 2,
   "id": "interesting-insider",
   "metadata": {},
   "outputs": [
    {
     "data": {
      "text/plain": [
       "'0.3.3'"
      ]
     },
     "execution_count": 2,
     "metadata": {},
     "output_type": "execute_result"
    }
   ],
   "source": [
    "mirdata.__version__"
   ]
  },
  {
   "cell_type": "code",
   "execution_count": 10,
   "id": "intensive-control",
   "metadata": {},
   "outputs": [],
   "source": [
    "salami = mirdata.initialize('salami', data_home='/scratch/qx244/data/salami/')"
   ]
  },
  {
   "cell_type": "code",
   "execution_count": 11,
   "id": "thousand-abortion",
   "metadata": {},
   "outputs": [
    {
     "name": "stderr",
     "output_type": "stream",
     "text": [
      "INFO: Downloading ['annotations'] to /scratch/qx244/data/salami/\n",
      "INFO: [annotations] downloading salami-data-public-hierarchy-corrections.zip\n",
      "5.34MB [00:01, 4.39MB/s]\n",
      "INFO: \n",
      "    Unfortunately the audio files of the Salami dataset are not available\n",
      "    for download. If you have the Salami dataset, place the contents into a\n",
      "    folder called Salami with the following structure:\n",
      "        > Salami/\n",
      "            > salami-data-public-hierarchy-corrections/\n",
      "            > audio/\n",
      "    and copy the Salami folder to /scratch/qx244/data/salami/\n",
      "\n"
     ]
    }
   ],
   "source": [
    "# salami.download()"
   ]
  },
  {
   "cell_type": "code",
   "execution_count": 17,
   "id": "athletic-transaction",
   "metadata": {},
   "outputs": [
    {
     "data": {
      "text/plain": [
       "1359"
      ]
     },
     "execution_count": 17,
     "metadata": {},
     "output_type": "execute_result"
    }
   ],
   "source": [
    "len(salami.track_ids)"
   ]
  },
  {
   "cell_type": "code",
   "execution_count": 19,
   "id": "rotary-theory",
   "metadata": {},
   "outputs": [],
   "source": [
    "track = salami.track(salami.track_ids[0])"
   ]
  },
  {
   "cell_type": "code",
   "execution_count": 25,
   "id": "municipal-perception",
   "metadata": {},
   "outputs": [
    {
     "data": {
      "text/plain": [
       "array([[  0.        ,   0.2554195 ],\n",
       "       [  0.2554195 ,   2.71210884],\n",
       "       [  2.71210884,   7.47414966],\n",
       "       [  7.47414966,  12.21369615],\n",
       "       [ 12.21369615,  17.25353741],\n",
       "       [ 17.25353741,  22.0530839 ],\n",
       "       [ 22.0530839 ,  26.90210884],\n",
       "       [ 26.90210884,  31.83811791],\n",
       "       [ 31.83811791,  36.7500907 ],\n",
       "       [ 36.7500907 ,  41.55210884],\n",
       "       [ 41.55210884,  46.62337868],\n",
       "       [ 46.62337868,  51.55424036],\n",
       "       [ 51.55424036,  56.5661678 ],\n",
       "       [ 56.5661678 ,  61.52589569],\n",
       "       [ 61.52589569,  66.46884354],\n",
       "       [ 66.46884354,  71.44612245],\n",
       "       [ 71.44612245,  76.32605442],\n",
       "       [ 76.32605442,  81.27816327],\n",
       "       [ 81.27816327,  86.23809524],\n",
       "       [ 86.23809524,  91.19024943],\n",
       "       [ 91.19024943,  96.13650794],\n",
       "       [ 96.13650794, 101.03823129],\n",
       "       [101.03823129, 105.96274376],\n",
       "       [105.96274376, 111.0301814 ],\n",
       "       [111.0301814 , 115.90226757],\n",
       "       [115.90226757, 120.82210884],\n",
       "       [120.82210884, 125.84777778],\n",
       "       [125.84777778, 130.74278911],\n",
       "       [130.74278911, 135.69408163],\n",
       "       [135.69408163, 140.67013605],\n",
       "       [140.67013605, 145.63079365],\n",
       "       [145.63079365, 150.56453515],\n",
       "       [150.56453515, 155.52619048],\n",
       "       [155.52619048, 160.46192744],\n",
       "       [160.46192744, 165.46217687],\n",
       "       [165.46217687, 170.28659864],\n",
       "       [170.28659864, 181.67188209],\n",
       "       [181.67188209, 185.50274376]])"
      ]
     },
     "execution_count": 25,
     "metadata": {},
     "output_type": "execute_result"
    }
   ],
   "source": [
    "track.sections_annotator_1_lowercase.intervals"
   ]
  },
  {
   "cell_type": "code",
   "execution_count": null,
   "id": "average-blood",
   "metadata": {},
   "outputs": [],
   "source": []
  }
 ],
 "metadata": {
  "kernelspec": {
   "display_name": "Python 3",
   "language": "python",
   "name": "python3"
  },
  "language_info": {
   "codemirror_mode": {
    "name": "ipython",
    "version": 3
   },
   "file_extension": ".py",
   "mimetype": "text/x-python",
   "name": "python",
   "nbconvert_exporter": "python",
   "pygments_lexer": "ipython3",
   "version": "3.6.12"
  }
 },
 "nbformat": 4,
 "nbformat_minor": 5
}
